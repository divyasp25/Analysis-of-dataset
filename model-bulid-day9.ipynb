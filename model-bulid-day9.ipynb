{
 "cells": [
  {
   "cell_type": "code",
   "execution_count": 2,
   "id": "0235eef1-994b-4d43-ac44-9b7615393445",
   "metadata": {},
   "outputs": [],
   "source": [
    "import pandas as pd\n",
    "# Read the CSV file into a Pandas DataFrame\n",
    "df = pd.read_csv('C:\\\\Users\\\\Divya Shree\\\\Desktop\\\\internship\\\\synthetic_fraud_800k_200k.csv')"
   ]
  },
  {
   "cell_type": "code",
   "execution_count": 6,
   "id": "18fb5ae9-f187-46ce-98b3-00907b83a46d",
   "metadata": {},
   "outputs": [
    {
     "name": "stdout",
     "output_type": "stream",
     "text": [
      "Dependent Variable (y):\n",
      "0    0\n",
      "1    0\n",
      "2    1\n",
      "3    1\n",
      "4    0\n",
      "Name: is_fraud, dtype: int64\n",
      "\n",
      "Independent Variables (X):\n",
      "   Unnamed: 0     feat_1     feat_2     feat_3     feat_4\n",
      "0           0  -9.582420  -1.141165   8.351981  -1.940476\n",
      "1           1   6.191502  13.353780   2.176914   0.316897\n",
      "2           2  -5.331904  -7.665645  -8.635904   8.302593\n",
      "3           3  -7.687244  -3.968772  -8.028003   8.610285\n",
      "4           4 -24.178186  17.121323  15.574307 -16.996606\n",
      "X Shape: (1000000, 5)\n",
      "y Shape: (1000000,)\n"
     ]
    }
   ],
   "source": [
    "import pandas as pd\n",
    "\n",
    "# Assuming 'is_fraud' is your dependent variable and 'features' are your independent variables\n",
    "X = df.drop('is_fraud', axis=1)\n",
    "y = df['is_fraud']\n",
    "\n",
    "# If you have categorical variables, create dummies (one-hot encoding)\n",
    "X = pd.get_dummies(X)\n",
    "\n",
    "# Print the shape of X and y\n",
    "print(\"Dependent Variable (y):\")\n",
    "print(y.head())\n",
    "print(\"\\nIndependent Variables (X):\")\n",
    "print(X.head())\n",
    "print(\"X Shape:\", X.shape)\n",
    "print(\"y Shape:\", y.shape)\n",
    "\n",
    "# Save X and y to separate files\n",
    "X.to_csv('C:\\\\Users\\\\Divya Shree\\\\Desktop\\\\internship\\\\independent_variables.csv', index=False)\n",
    "y.to_csv('C:\\\\Users\\\\Divya Shree\\\\Desktop\\\\internship\\\\dependent_variable.csv', index=False)\n"
   ]
  },
  {
   "cell_type": "code",
   "execution_count": 5,
   "id": "8f4c49d0-9b70-4785-b5e5-b1fd89a2a773",
   "metadata": {},
   "outputs": [
    {
     "name": "stdout",
     "output_type": "stream",
     "text": [
      "\n",
      "dropping of attribute\n",
      "   Unnamed: 0     feat_1     feat_2     feat_3\n",
      "0           0  -9.582420  -1.141165   8.351981\n",
      "1           1   6.191502  13.353780   2.176914\n",
      "2           2  -5.331904  -7.665645  -8.635904\n",
      "3           3  -7.687244  -3.968772  -8.028003\n",
      "4           4 -24.178186  17.121323  15.574307\n"
     ]
    }
   ],
   "source": [
    "import pandas as pd\n",
    "\n",
    "# Step 3: Drop the attributes (you can replace 'columns_to_drop' with your specific attribute names)\n",
    "columns_to_drop = []\n",
    "X = X.drop(columns=columns_to_drop)\n",
    "\n",
    "#dropping of attribute\n",
    "columns_to_drop = ['feat_4']\n",
    "d = X.drop(columns=columns_to_drop)\n",
    "\n",
    "# Print the results\n",
    "print(\"\\ndropping of attribute\")\n",
    "print(d.head())"
   ]
  },
  {
   "cell_type": "code",
   "execution_count": 7,
   "id": "0da8f7e2-5efb-49d8-90fb-cdaeef5ce2d4",
   "metadata": {},
   "outputs": [
    {
     "name": "stdout",
     "output_type": "stream",
     "text": [
      "\n",
      "Train and Test Split:\n",
      "X_train shape: (500000, 5)\n",
      "X_test shape: (500000, 5)\n",
      "y_train shape: (500000,)\n",
      "y_test shape: (500000,)\n"
     ]
    }
   ],
   "source": [
    "# Calculate the split index\n",
    "split_index = int(0.5 * len(df))\n",
    "\n",
    "# Split the data into train and test\n",
    "X_train, X_test = X.iloc[:split_index], X.iloc[split_index:]\n",
    "y_train, y_test = y.iloc[:split_index], y.iloc[split_index:]\n",
    "\n",
    "# print train and test data\n",
    "print(\"\\nTrain and Test Split:\")\n",
    "print(\"X_train shape:\", X_train.shape)\n",
    "print(\"X_test shape:\", X_test.shape)\n",
    "print(\"y_train shape:\", y_train.shape)\n",
    "print(\"y_test shape:\", y_test.shape)\n",
    "\n",
    "# Save the training and testing sets to separate files\n",
    "X_train.to_csv('C:\\\\Users\\\\Divya Shree\\\\Desktop\\\\internship\\\\X_train.csv', index=False)\n",
    "X_test.to_csv('C:\\\\Users\\\\Divya Shree\\\\Desktop\\\\internship\\\\X_test.csv', index=False)\n",
    "y_train.to_csv('C:\\\\Users\\\\Divya Shree\\\\Desktop\\\\internship\\\\y_train.csv', index=False)\n",
    "y_test.to_csv('C:\\\\Users\\\\Divya Shree\\\\Desktop\\\\internship\\\\y_test.csv', index=False)"
   ]
  },
  {
   "cell_type": "code",
   "execution_count": 8,
   "id": "db2d9706-b12a-4b8a-9358-c4b3aef77d26",
   "metadata": {},
   "outputs": [
    {
     "name": "stdout",
     "output_type": "stream",
     "text": [
      "Optimization terminated successfully.\n",
      "         Current function value: 0.115743\n",
      "         Iterations 11\n",
      "                           Logit Regression Results                           \n",
      "==============================================================================\n",
      "Dep. Variable:               is_fraud   No. Observations:               500000\n",
      "Model:                          Logit   Df Residuals:                   499994\n",
      "Method:                           MLE   Df Model:                            5\n",
      "Date:                Sat, 21 Oct 2023   Pseudo R-squ.:                  0.7686\n",
      "Time:                        20:39:26   Log-Likelihood:                -57872.\n",
      "converged:                       True   LL-Null:                   -2.5009e+05\n",
      "Covariance Type:            nonrobust   LLR p-value:                     0.000\n",
      "==============================================================================\n",
      "                 coef    std err          z      P>|z|      [0.025      0.975]\n",
      "------------------------------------------------------------------------------\n",
      "const         -5.5470      0.032   -173.393      0.000      -5.610      -5.484\n",
      "Unnamed: 0  1.609e-08   5.23e-08      0.308      0.758   -8.63e-08    1.18e-07\n",
      "feat_1        -0.1117      0.001    -84.852      0.000      -0.114      -0.109\n",
      "feat_2        -0.4022      0.002   -203.700      0.000      -0.406      -0.398\n",
      "feat_3        -0.3428      0.002   -189.367      0.000      -0.346      -0.339\n",
      "feat_4         0.1347      0.001     99.477      0.000       0.132       0.137\n",
      "==============================================================================\n",
      "\n",
      "Possibly complete quasi-separation: A fraction 0.46 of observations can be\n",
      "perfectly predicted. This might indicate that there is complete\n",
      "quasi-separation. In this case some parameters will not be identified.\n"
     ]
    }
   ],
   "source": [
    "import statsmodels.api as sm\n",
    "import pickle\n",
    "\n",
    "# Add a constant (intercept) to the independent variables\n",
    "X_train = sm.add_constant(X_train)\n",
    "\n",
    "# Build the logistic regression model\n",
    "model = sm.Logit(y_train, X_train)\n",
    "res = model.fit()\n",
    "\n",
    "# Print the summary of the model\n",
    "print(res.summary())\n",
    "\n",
    "# Save the model to a file using pickle\n",
    "with open('C:\\\\Users\\\\Divya Shree\\\\Desktop\\\\internship\\\\logistic_regression_model.pkl', 'wb') as model_file:\n",
    "    pickle.dump(res, model_file)"
   ]
  },
  {
   "cell_type": "code",
   "execution_count": null,
   "id": "b274afba-f9ca-463e-a333-d914bd872511",
   "metadata": {},
   "outputs": [],
   "source": []
  }
 ],
 "metadata": {
  "kernelspec": {
   "display_name": "Python 3 (ipykernel)",
   "language": "python",
   "name": "python3"
  },
  "language_info": {
   "codemirror_mode": {
    "name": "ipython",
    "version": 3
   },
   "file_extension": ".py",
   "mimetype": "text/x-python",
   "name": "python",
   "nbconvert_exporter": "python",
   "pygments_lexer": "ipython3",
   "version": "3.9.7"
  }
 },
 "nbformat": 4,
 "nbformat_minor": 5
}
