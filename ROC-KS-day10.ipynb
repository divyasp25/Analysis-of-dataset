{
 "cells": [
  {
   "cell_type": "code",
   "execution_count": 1,
   "id": "659f1496-95ba-4b4b-8d15-3914ea3d538e",
   "metadata": {},
   "outputs": [],
   "source": [
    "import pandas as pd\n",
    "# Read the CSV file into a Pandas DataFrame\n",
    "df = pd.read_csv('C:\\\\Users\\\\Divya Shree\\\\Desktop\\\\internship\\\\synthetic_fraud_800k_200k.csv')"
   ]
  },
  {
   "cell_type": "code",
   "execution_count": 2,
   "id": "ab1b42a8-1f2b-40b1-8076-8655feecb5a4",
   "metadata": {},
   "outputs": [],
   "source": [
    "import pandas as pd\n",
    "\n",
    "# Assuming 'is_fraud' is your dependent variable and 'features' are your independent variables\n",
    "X = df.drop('is_fraud', axis=1)\n",
    "y = df['is_fraud']\n",
    "# If you have categorical variables, create dummies (one-hot encoding)\n",
    "X = pd.get_dummies(X)\n",
    "# Save X and y to separate files\n",
    "X.to_csv('C:\\\\Users\\\\Divya Shree\\\\Desktop\\\\internship\\\\independent_variables.csv', index=False)\n",
    "y.to_csv('C:\\\\Users\\\\Divya Shree\\\\Desktop\\\\internship\\\\dependent_variable.csv', index=False)"
   ]
  },
  {
   "cell_type": "code",
   "execution_count": 3,
   "id": "0e03406b-4924-41a4-ada0-2070ee2094cd",
   "metadata": {},
   "outputs": [],
   "source": [
    "# Calculate the split index\n",
    "split_index = int(0.5 * len(df))\n",
    "\n",
    "# Split the data into train and test\n",
    "X_train, X_test = X.iloc[:split_index], X.iloc[split_index:]\n",
    "y_train, y_test = y.iloc[:split_index], y.iloc[split_index:]\n",
    "\n",
    "# Save the training and testing sets to separate files\n",
    "X_train.to_csv('C:\\\\Users\\\\Divya Shree\\\\Desktop\\\\internship\\\\X_train.csv', index=False)\n",
    "X_test.to_csv('C:\\\\Users\\\\Divya Shree\\\\Desktop\\\\internship\\\\X_test.csv', index=False)\n",
    "y_train.to_csv('C:\\\\Users\\\\Divya Shree\\\\Desktop\\\\internship\\\\y_train.csv', index=False)\n",
    "y_test.to_csv('C:\\\\Users\\\\Divya Shree\\\\Desktop\\\\internship\\\\y_test.csv', index=False)"
   ]
  },
  {
   "cell_type": "code",
   "execution_count": 5,
   "id": "fb4e4332-2670-4482-ba02-d2d46f575d8c",
   "metadata": {},
   "outputs": [
    {
     "name": "stdout",
     "output_type": "stream",
     "text": [
      "Optimization terminated successfully.\n",
      "         Current function value: 0.115743\n",
      "         Iterations 11\n",
      "                           Logit Regression Results                           \n",
      "==============================================================================\n",
      "Dep. Variable:               is_fraud   No. Observations:               500000\n",
      "Model:                          Logit   Df Residuals:                   499994\n",
      "Method:                           MLE   Df Model:                            5\n",
      "Date:                Sat, 21 Oct 2023   Pseudo R-squ.:                  0.7686\n",
      "Time:                        20:51:28   Log-Likelihood:                -57872.\n",
      "converged:                       True   LL-Null:                   -2.5009e+05\n",
      "Covariance Type:            nonrobust   LLR p-value:                     0.000\n",
      "==============================================================================\n",
      "                 coef    std err          z      P>|z|      [0.025      0.975]\n",
      "------------------------------------------------------------------------------\n",
      "const         -5.5470      0.032   -173.393      0.000      -5.610      -5.484\n",
      "Unnamed: 0  1.609e-08   5.23e-08      0.308      0.758   -8.63e-08    1.18e-07\n",
      "feat_1        -0.1117      0.001    -84.852      0.000      -0.114      -0.109\n",
      "feat_2        -0.4022      0.002   -203.700      0.000      -0.406      -0.398\n",
      "feat_3        -0.3428      0.002   -189.367      0.000      -0.346      -0.339\n",
      "feat_4         0.1347      0.001     99.477      0.000       0.132       0.137\n",
      "==============================================================================\n",
      "\n",
      "Possibly complete quasi-separation: A fraction 0.46 of observations can be\n",
      "perfectly predicted. This might indicate that there is complete\n",
      "quasi-separation. In this case some parameters will not be identified.\n"
     ]
    }
   ],
   "source": [
    "import statsmodels.api as sm\n",
    "import pickle\n",
    "\n",
    "# Add a constant (intercept) to the independent variables\n",
    "X_train = sm.add_constant(X_train)\n",
    "# Build the logistic regression model\n",
    "model = sm.Logit(y_train, X_train)\n",
    "res = model.fit()\n",
    "# Print the summary of the model\n",
    "print(res.summary())\n",
    "# Save the model to a file using pickle\n",
    "with open('C:\\\\Users\\\\Divya Shree\\\\Desktop\\\\internship\\\\logistic_regression_model.pkl', 'wb') as model_file:\n",
    "    pickle.dump(res, model_file)"
   ]
  },
  {
   "cell_type": "code",
   "execution_count": 21,
   "id": "fb24ff86-afb8-4325-9190-629ab5597a5a",
   "metadata": {},
   "outputs": [
    {
     "name": "stdout",
     "output_type": "stream",
     "text": [
      "Predicted Probabilities:\n",
      "0         7.900586e-04\n",
      "1         4.493192e-06\n",
      "2         9.012345e-01\n",
      "3         6.942931e-01\n",
      "4         2.882323e-08\n",
      "              ...     \n",
      "499995    6.121866e-01\n",
      "499996    5.289776e-06\n",
      "499997    1.377011e-04\n",
      "499998    1.817535e-04\n",
      "499999    9.392128e-04\n",
      "Length: 500000, dtype: float64\n",
      "Predicted Binary Labels (threshold=0.5):\n",
      "0         0\n",
      "1         0\n",
      "2         1\n",
      "3         1\n",
      "4         0\n",
      "         ..\n",
      "499995    1\n",
      "499996    0\n",
      "499997    0\n",
      "499998    0\n",
      "499999    0\n",
      "Length: 500000, dtype: int32\n"
     ]
    }
   ],
   "source": [
    "import statsmodels.api as sm\n",
    "import pickle\n",
    "\n",
    "# Load the saved logistic regression model\n",
    "with open('C:\\\\Users\\\\Divya Shree\\\\Desktop\\\\internship\\\\logistic_regression_model.pkl', 'rb') as model_file:\n",
    "    loaded_model = pickle.load(model_file)\n",
    "\n",
    "# Assuming you have a new dataset for prediction (X_test)\n",
    "# Add a constant (intercept) to the independent variables in the test dataset\n",
    "X_train = sm.add_constant(X_train)\n",
    "\n",
    "# Make predictions using the loaded model\n",
    "predictions = loaded_model.predict(X_train)\n",
    "\n",
    "# You can print the predicted probabilities or convert them to binary labels\n",
    "# For example, if you want to convert to binary labels with a threshold of 0.5\n",
    "binary_predictions = (predictions >= 0.5).astype(int)\n",
    "\n",
    "# Print the predictions\n",
    "print(\"Predicted Probabilities:\")\n",
    "print(predictions)\n",
    "\n",
    "print(\"Predicted Binary Labels (threshold=0.5):\")\n",
    "print(binary_predictions)\n"
   ]
  },
  {
   "cell_type": "code",
   "execution_count": 22,
   "id": "db3e5191-302e-43ca-b6ca-f35677a159ff",
   "metadata": {},
   "outputs": [
    {
     "name": "stdout",
     "output_type": "stream",
     "text": [
      "Accuracy on the training data: 96.62%\n"
     ]
    }
   ],
   "source": [
    "# Predict the probabilities for the training data\n",
    "y_train_pred = res.predict(X_train)\n",
    "\n",
    "# Set a threshold (e.g., 0.5) to classify the predictions into 0 or 1\n",
    "threshold = 0.5\n",
    "y_train_pred_class = (y_train_pred > threshold).astype(int)\n",
    "\n",
    "# Compare the predicted classes with the actual classes\n",
    "correctly_predicted = (y_train == y_train_pred_class)\n",
    "\n",
    "# Calculate accuracy\n",
    "accuracy = correctly_predicted.sum() / len(correctly_predicted)\n",
    "\n",
    "print(f\"Accuracy on the training data: {accuracy:.2%}\")"
   ]
  },
  {
   "cell_type": "code",
   "execution_count": 23,
   "id": "d424a090-9e5a-4291-929a-c2a0c6e695fa",
   "metadata": {},
   "outputs": [
    {
     "name": "stdout",
     "output_type": "stream",
     "text": [
      "True Positives: 96370\n",
      "True Negatives: 386753\n",
      "False Positives: 13329\n",
      "False Negatives: 3548\n"
     ]
    }
   ],
   "source": [
    "# Predict the probabilities for the training data\n",
    "y_train_pred = res.predict(X_train)\n",
    "\n",
    "# Set a threshold (e.g., 0.5) to classify the predictions into 0 or 1\n",
    "threshold = 0.5\n",
    "y_train_pred_class = (y_train_pred > threshold).astype(int)\n",
    "\n",
    "# Calculate the confusion matrix\n",
    "true_positive = ((y_train == 1) & (y_train_pred_class == 1)).sum()\n",
    "true_negative = ((y_train == 0) & (y_train_pred_class == 0)).sum()\n",
    "false_positive = ((y_train == 0) & (y_train_pred_class == 1)).sum()\n",
    "false_negative = ((y_train == 1) & (y_train_pred_class == 0)).sum()\n",
    "\n",
    "print(f\"True Positives: {true_positive}\")\n",
    "print(f\"True Negatives: {true_negative}\")\n",
    "print(f\"False Positives: {false_positive}\")\n",
    "print(f\"False Negatives: {false_negative}\")"
   ]
  },
  {
   "cell_type": "code",
   "execution_count": 32,
   "id": "3fd658bf-b6fc-46cc-a830-d223bf1dcfb2",
   "metadata": {},
   "outputs": [
    {
     "data": {
      "image/png": "[encoded data removed]",
      "text/plain": [
       "<Figure size 800x600 with 1 Axes>"
      ]
     },
     "metadata": {},
     "output_type": "display_data"
    }
   ],
   "source": [
    "import numpy as np\n",
    "import matplotlib.pyplot as plt\n",
    "\n",
    "# Predict the probabilities for the training data\n",
    "y_train_pred = res.predict(X_train)\n",
    "\n",
    "# Create an array of threshold values\n",
    "thresholds = np.arange(0, 1.05, 0.05)\n",
    "\n",
    "# Initialize empty lists for TPR and FPR\n",
    "tpr_list = []\n",
    "fpr_list = []\n",
    "\n",
    "# Calculate TPR and FPR for each threshold\n",
    "for threshold in thresholds:\n",
    "    y_train_pred_class = (y_train_pred > threshold).astype(int)\n",
    "    true_positive = ((y_train == 1) & (y_train_pred_class == 1)).sum()\n",
    "    true_negative = ((y_train == 0) & (y_train_pred_class == 0)).sum()\n",
    "    false_positive = ((y_train == 0) & (y_train_pred_class == 1)).sum()\n",
    "    false_negative = ((y_train == 1) & (y_train_pred_class == 0)).sum()\n",
    "    \n",
    "    tpr = true_positive / (true_positive + false_negative)\n",
    "    fpr = false_positive / (false_positive + true_negative)\n",
    "    \n",
    "    tpr_list.append(tpr)\n",
    "    fpr_list.append(fpr)\n",
    "\n",
    "# Plot the ROC curve\n",
    "plt.figure(figsize=(8, 6))\n",
    "plt.plot(fpr_list, tpr_list, marker='o', linestyle='-')\n",
    "plt.xlabel('False Positive Rate')\n",
    "plt.ylabel('True Positive Rate')\n",
    "plt.title('ROC Curve')\n",
    "plt.grid(True)\n",
    "plt.show()"
   ]
  },
  {
   "cell_type": "code",
   "execution_count": 31,
   "id": "76f5d1be-287f-44f6-8e87-69bd061569a8",
   "metadata": {},
   "outputs": [
    {
     "name": "stdout",
     "output_type": "stream",
     "text": [
      "Sensitivity (True Positive Rate): 96.45%\n",
      "Specificity: 96.67%\n"
     ]
    }
   ],
   "source": [
    "# Predict the probabilities for the training data\n",
    "y_train_pred = res.predict(X_train)\n",
    "\n",
    "# Set a threshold (e.g., 0.5) to classify the predictions into 0 or 1\n",
    "threshold = 0.5\n",
    "y_train_pred_class = (y_train_pred > threshold).astype(int)\n",
    "\n",
    "# Calculate True Positives, True Negatives, False Positives, and False Negatives\n",
    "true_positive = ((y_train == 1) & (y_train_pred_class == 1)).sum()\n",
    "true_negative = ((y_train == 0) & (y_train_pred_class == 0)).sum()\n",
    "false_positive = ((y_train == 0) & (y_train_pred_class == 1)).sum()\n",
    "false_negative = ((y_train == 1) & (y_train_pred_class == 0)).sum()\n",
    "\n",
    "# Calculate Sensitivity (True Positive Rate)\n",
    "sensitivity = true_positive / (true_positive + false_negative)\n",
    "\n",
    "# Calculate Specificity\n",
    "specificity = true_negative / (true_negative + false_positive)\n",
    "\n",
    "print(f\"Sensitivity (True Positive Rate): {sensitivity:.2%}\")\n",
    "print(f\"Specificity: {specificity:.2%}\")\n"
   ]
  },
  {
   "cell_type": "code",
   "execution_count": 33,
   "id": "1ab53ce8-45cc-4680-9500-c05a6c01487b",
   "metadata": {},
   "outputs": [
    {
     "name": "stdout",
     "output_type": "stream",
     "text": [
      "KS Statistic: 94.93%\n"
     ]
    }
   ],
   "source": [
    "import numpy as np\n",
    "\n",
    "# Predict the probabilities for the training data\n",
    "y_train_pred = res.predict(X_train)\n",
    "\n",
    "# Create an array of the actual labels (0 for negative, 1 for positive)\n",
    "actual_labels = np.array(y_train)\n",
    "\n",
    "# Sort the predicted probabilities in descending order and get the corresponding actual labels\n",
    "sorted_indices = np.argsort(y_train_pred)[::-1]\n",
    "sorted_labels = actual_labels[sorted_indices]\n",
    "\n",
    "# Calculate the cumulative distribution function (CDF) for both classes\n",
    "cdf_positive = np.cumsum(sorted_labels) / sum(actual_labels)\n",
    "cdf_negative = np.cumsum(1 - sorted_labels) / (len(actual_labels) - sum(actual_labels))\n",
    "\n",
    "# Calculate the KS statistic\n",
    "ks_statistic = max(np.abs(cdf_positive - cdf_negative))\n",
    "\n",
    "print(f\"KS Statistic: {ks_statistic:.2%}\")"
   ]
  },
  {
   "cell_type": "code",
   "execution_count": null,
   "id": "ce43c71c-9f4b-4099-80d8-311401ab9dcb",
   "metadata": {},
   "outputs": [],
   "source": []
  }
 ],
 "metadata": {
  "kernelspec": {
   "display_name": "Python 3 (ipykernel)",
   "language": "python",
   "name": "python3"
  },
  "language_info": {
   "codemirror_mode": {
    "name": "ipython",
    "version": 3
   },
   "file_extension": ".py",
   "mimetype": "text/x-python",
   "name": "python",
   "nbconvert_exporter": "python",
   "pygments_lexer": "ipython3",
   "version": "3.9.7"
  }
 },
 "nbformat": 4,
 "nbformat_minor": 5
}
